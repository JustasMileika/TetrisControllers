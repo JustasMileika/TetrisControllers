{
 "cells": [
  {
   "metadata": {
    "id": "QM4QixX4pHHY",
    "ExecuteTime": {
     "end_time": "2025-05-22T10:01:29.437827Z",
     "start_time": "2025-05-22T10:01:29.386316Z"
    }
   },
   "cell_type": "code",
   "source": [
    "import random\n",
    "\n",
    "import numpy as np\n",
    "import copy"
   ],
   "id": "64f4c4f552745dc1",
   "outputs": [],
   "execution_count": 1
  },
  {
   "metadata": {
    "id": "_A_KqCulpJ8h",
    "ExecuteTime": {
     "end_time": "2025-05-22T10:01:29.542703Z",
     "start_time": "2025-05-22T10:01:29.535577Z"
    }
   },
   "cell_type": "code",
   "source": [
    "WIDTH = 10\n",
    "HEIGHT = 20\n",
    "DISCOUNT = 0.9\n",
    "LAMBDA = 0.2\n",
    "FEATURE_COUNT = 2 * WIDTH + 2\n",
    "LEARNING_RATE = 0.0001\n",
    "PIECES = {\n",
    "    'I': [\n",
    "        np.array([\n",
    "            [1, 1, 1, 1],\n",
    "            [0, 0, 0, 0],\n",
    "            [0, 0, 0, 0],\n",
    "            [0, 0, 0, 0],\n",
    "        ]),\n",
    "        np.array([\n",
    "            [1, 0, 0, 0],\n",
    "            [1, 0, 0, 0],\n",
    "            [1, 0, 0, 0],\n",
    "            [1, 0, 0, 0],\n",
    "        ])\n",
    "    ],\n",
    "    'T': [\n",
    "        np.array([\n",
    "            [1, 1, 1, 0],\n",
    "            [0, 1, 0, 0],\n",
    "            [0, 0, 0, 0],\n",
    "            [0, 0, 0, 0],\n",
    "        ]),\n",
    "        np.array([\n",
    "            [1, 0, 0, 0],\n",
    "            [1, 1, 0, 0],\n",
    "            [1, 0, 0, 0],\n",
    "            [0, 0, 0, 0],\n",
    "        ]),\n",
    "        np.array([\n",
    "            [0, 1, 0, 0],\n",
    "            [1, 1, 1, 0],\n",
    "            [0, 0, 0, 0],\n",
    "            [0, 0, 0, 0],\n",
    "        ]),\n",
    "        np.array([\n",
    "            [0, 1, 0, 0],\n",
    "            [1, 1, 0, 0],\n",
    "            [0, 1, 0, 0],\n",
    "            [0, 0, 0, 0],\n",
    "        ])\n",
    "    ],\n",
    "    'Z': [\n",
    "        np.array([\n",
    "            [1, 1, 0, 0],\n",
    "            [0, 1, 1, 0],\n",
    "            [0, 0, 0, 0],\n",
    "            [0, 0, 0, 0],\n",
    "        ]),\n",
    "        np.array([\n",
    "            [0, 1, 0, 0],\n",
    "            [1, 1, 0, 0],\n",
    "            [1, 0, 0, 0],\n",
    "            [0, 0, 0, 0],\n",
    "        ]),\n",
    "    ],\n",
    "    'S': [\n",
    "        np.array([\n",
    "            [0, 1, 1, 0],\n",
    "            [1, 1, 0, 0],\n",
    "            [0, 0, 0, 0],\n",
    "            [0, 0, 0, 0],\n",
    "        ]),\n",
    "        np.array([\n",
    "            [1, 0, 0, 0],\n",
    "            [1, 1, 0, 0],\n",
    "            [0, 1, 0, 0],\n",
    "            [0, 0, 0, 0],\n",
    "        ]),\n",
    "    ],\n",
    "    'O': [\n",
    "        np.array([\n",
    "            [1, 1, 0, 0],\n",
    "            [1, 1, 0, 0],\n",
    "            [0, 0, 0, 0],\n",
    "            [0, 0, 0, 0],\n",
    "        ])\n",
    "    ],\n",
    "    'L': [\n",
    "        np.array([\n",
    "            [1, 0, 0, 0],\n",
    "            [1, 0, 0, 0],\n",
    "            [1, 1, 0, 0],\n",
    "            [0, 0, 0, 0],\n",
    "        ]),\n",
    "        np.array([\n",
    "            [0, 0, 1, 0],\n",
    "            [1, 1, 1, 0],\n",
    "            [0, 0, 0, 0],\n",
    "            [0, 0, 0, 0],\n",
    "        ]),\n",
    "        np.array([\n",
    "            [1, 1, 0, 0],\n",
    "            [0, 1, 0, 0],\n",
    "            [0, 1, 0, 0],\n",
    "            [0, 0, 0, 0],\n",
    "        ]),\n",
    "        np.array([\n",
    "            [1, 1, 1, 0],\n",
    "            [1, 0, 0, 0],\n",
    "            [0, 0, 0, 0],\n",
    "            [0, 0, 0, 0],\n",
    "        ]),\n",
    "    ],\n",
    "    'J': [\n",
    "        np.array([\n",
    "            [0, 1, 0, 0],\n",
    "            [0, 1, 0, 0],\n",
    "            [1, 1, 0, 0],\n",
    "            [0, 0, 0, 0],\n",
    "        ]),\n",
    "        np.array([\n",
    "            [1, 0, 0, 0],\n",
    "            [1, 1, 1, 0],\n",
    "            [0, 0, 0, 0],\n",
    "            [0, 0, 0, 0],\n",
    "        ]),\n",
    "        np.array([\n",
    "            [1, 1, 0, 0],\n",
    "            [1, 0, 0, 0],\n",
    "            [1, 0, 0, 0],\n",
    "            [0, 0, 0, 0],\n",
    "        ]),\n",
    "        np.array([\n",
    "            [1, 1, 1, 0],\n",
    "            [0, 0, 1, 0],\n",
    "            [0, 0, 0, 0],\n",
    "            [0, 0, 0, 0],\n",
    "        ]),\n",
    "    ],\n",
    "}\n",
    "\n",
    "PIECES_NAMES = PIECES.keys()\n",
    "\n",
    "START_BOARD = [[0] * WIDTH for _ in range(HEIGHT)]"
   ],
   "id": "b621e2991433f265",
   "outputs": [],
   "execution_count": 2
  },
  {
   "metadata": {
    "id": "4y0geIogpEE2",
    "ExecuteTime": {
     "end_time": "2025-05-22T10:01:29.555910Z",
     "start_time": "2025-05-22T10:01:29.551958Z"
    }
   },
   "cell_type": "code",
   "source": [
    "def can_be_placed_x_y(board, piece, x, y):\n",
    "    for i in range(4):\n",
    "        for j in range(4):\n",
    "            if piece[i][j] == 1 and (x + i >= HEIGHT or y + j >= WIDTH or board[x + i][y + j] == 1):\n",
    "                return False\n",
    "    return True\n",
    "\n",
    "\n",
    "def can_be_placed_y(board, piece, y):\n",
    "    can_place_at = -1\n",
    "    for i in range(HEIGHT):\n",
    "        if can_be_placed_x_y(board, piece, i, y):\n",
    "            can_place_at = i\n",
    "        else:\n",
    "            break\n",
    "    return can_place_at\n",
    "\n",
    "\n",
    "def place(board, piece, x, y):\n",
    "    new_board = copy.deepcopy(board)\n",
    "    n = len(piece)\n",
    "    m = len(piece[0])\n",
    "    mrange = range(m)\n",
    "    for i in range(n):\n",
    "        for j in mrange:\n",
    "            if piece[i][j] == 1:\n",
    "                new_board[x + i][y + j] = 1\n",
    "    return new_board\n",
    "\n",
    "\n",
    "def print_board(board, name=\"\"):\n",
    "    print(name)\n",
    "    for row in board:\n",
    "        print(\"\".join(\"#\" if x else \".\" for x in row))\n",
    "    print(\"\\n\")\n",
    "\n",
    "\n",
    "def get_piece_actions(board, piece):\n",
    "    actions = []\n",
    "    for rotation in piece:\n",
    "        for i in range(WIDTH):\n",
    "            placed = can_be_placed_y(board, rotation, i)\n",
    "            if placed > -1:\n",
    "                actions.append((placed, i, rotation))\n",
    "\n",
    "    return actions\n",
    "\n",
    "def get_reward(board):\n",
    "    new_board = [row for row in board if not all(row)]\n",
    "    cleared = HEIGHT - len(new_board)\n",
    "    while len(new_board) < HEIGHT:\n",
    "        new_board.insert(0, [0] * WIDTH)\n",
    "    return new_board, cleared"
   ],
   "id": "b35f4a0384546d00",
   "outputs": [],
   "execution_count": 3
  },
  {
   "metadata": {
    "ExecuteTime": {
     "end_time": "2025-05-22T10:01:29.565670Z",
     "start_time": "2025-05-22T10:01:29.562732Z"
    }
   },
   "cell_type": "code",
   "source": [
    "def get_features(board):\n",
    "    board = np.array(board)\n",
    "    height, width = board.shape\n",
    "    h = np.zeros(width, dtype=int)\n",
    "\n",
    "    for k in range(width):\n",
    "        column = board[:, k]\n",
    "        non_zero = np.where(column == 1)[0]\n",
    "        h[k] = height - non_zero[0] if len(non_zero) > 0 else 0\n",
    "\n",
    "    height_diffs = np.abs(np.diff(h))\n",
    "\n",
    "    max_h = np.max(h)\n",
    "\n",
    "    holes = 0\n",
    "    for k in range(width):\n",
    "        col = board[:, k]\n",
    "        filled_indices = np.where(col == 1)[0]\n",
    "        if len(filled_indices) > 0:\n",
    "            top = filled_indices[0]\n",
    "            holes += np.sum(col[top + 1:] == 0)\n",
    "\n",
    "    features = np.concatenate([\n",
    "        [1.0],\n",
    "        h,\n",
    "        height_diffs,\n",
    "        [max_h],\n",
    "        [holes]\n",
    "    ])\n",
    "\n",
    "    return features\n"
   ],
   "id": "130d6f26547de760",
   "outputs": [],
   "execution_count": 4
  },
  {
   "metadata": {
    "ExecuteTime": {
     "end_time": "2025-05-22T10:01:29.574345Z",
     "start_time": "2025-05-22T10:01:29.572181Z"
    }
   },
   "cell_type": "code",
   "source": [
    "def get_value_with_weights(board, weights):\n",
    "    features = get_features(board)\n",
    "    return np.dot(features, weights)"
   ],
   "id": "8e0d54626e83f7ce",
   "outputs": [],
   "execution_count": 5
  },
  {
   "metadata": {
    "ExecuteTime": {
     "end_time": "2025-05-22T10:01:29.583409Z",
     "start_time": "2025-05-22T10:01:29.581244Z"
    }
   },
   "cell_type": "code",
   "source": [
    "def get_best_action_with_weights(weights, initial_board, initial_piece):\n",
    "    actions = get_piece_actions(initial_board, PIECES[initial_piece])\n",
    "    best_value = None\n",
    "    best_action = None\n",
    "    best_reward = None\n",
    "    best_new_board = None\n",
    "\n",
    "    for action in actions:\n",
    "        (x, y, rotation) = action\n",
    "        new_board = place(initial_board, rotation, x, y)\n",
    "        new_board, reward = get_reward(new_board)\n",
    "        value = reward + get_value_with_weights(new_board, weights)\n",
    "        if best_value is None or value > best_value:\n",
    "            best_value = value\n",
    "            best_action = action\n",
    "            best_reward = reward\n",
    "            best_new_board = new_board\n",
    "\n",
    "    return best_action, best_value, best_reward, best_new_board"
   ],
   "id": "de1dc7afa168c929",
   "outputs": [],
   "execution_count": 6
  },
  {
   "metadata": {
    "ExecuteTime": {
     "end_time": "2025-05-22T10:01:29.591601Z",
     "start_time": "2025-05-22T10:01:29.589813Z"
    }
   },
   "cell_type": "code",
   "source": [
    "def get_target(index, value_estimates, errors):\n",
    "    total = 0\n",
    "\n",
    "    total += value_estimates[index]\n",
    "\n",
    "    for i in range(len(errors) - index):\n",
    "        total += (LAMBDA ** i) * errors[index + i]\n",
    "\n",
    "    return total"
   ],
   "id": "edc3494af6ad390f",
   "outputs": [],
   "execution_count": 7
  },
  {
   "metadata": {
    "ExecuteTime": {
     "end_time": "2025-05-22T10:01:29.599769Z",
     "start_time": "2025-05-22T10:01:29.597742Z"
    }
   },
   "cell_type": "code",
   "source": [
    "def play_with_weights(weights):\n",
    "    new_board = START_BOARD\n",
    "\n",
    "    total_reward = 0\n",
    "\n",
    "    while True:\n",
    "        next_piece = random.choice(list(PIECES_NAMES))\n",
    "\n",
    "        action, _, reward, updated_board = get_best_action_with_weights(weights, new_board, next_piece)\n",
    "\n",
    "        if (action is None):\n",
    "            break\n",
    "\n",
    "        new_board = updated_board\n",
    "        total_reward += reward\n",
    "\n",
    "    return total_reward"
   ],
   "id": "274b31c3e0d39e9e",
   "outputs": [],
   "execution_count": 8
  },
  {
   "metadata": {
    "ExecuteTime": {
     "end_time": "2025-05-22T10:01:29.608007Z",
     "start_time": "2025-05-22T10:01:29.606286Z"
    }
   },
   "cell_type": "code",
   "source": [
    "def play_avg_reward(weights, count=50):\n",
    "    total_reward = 0\n",
    "    for _ in range(count):\n",
    "        total_reward += play_with_weights(weights)\n",
    "    return total_reward / count"
   ],
   "id": "656478ee661d8bdb",
   "outputs": [],
   "execution_count": 9
  },
  {
   "metadata": {
    "ExecuteTime": {
     "end_time": "2025-05-22T10:01:29.616218Z",
     "start_time": "2025-05-22T10:01:29.614149Z"
    }
   },
   "cell_type": "code",
   "source": [
    "def get_weight_update_and_traces(old_state, new_state, reward, weights, traces):\n",
    "    current_value = get_value_with_weights(old_state, weights)\n",
    "\n",
    "    if (new_state is not None):\n",
    "        next_value = get_value_with_weights(new_state, weights)\n",
    "        error = reward + DISCOUNT * next_value - current_value\n",
    "    else:\n",
    "        error = -current_value\n",
    "\n",
    "    new_traces = DISCOUNT * LAMBDA * traces + get_features(old_state)\n",
    "\n",
    "    weight_update = LEARNING_RATE * error * traces\n",
    "\n",
    "    return weight_update, new_traces\n"
   ],
   "id": "2d5ff3c6ab014e61",
   "outputs": [],
   "execution_count": 10
  },
  {
   "metadata": {
    "ExecuteTime": {
     "end_time": "2025-05-22T10:01:29.624906Z",
     "start_time": "2025-05-22T10:01:29.622513Z"
    }
   },
   "cell_type": "code",
   "source": [
    "def update_weights_per_episode(weights_to_play_with, value_function_weights):\n",
    "\n",
    "    traces = np.zeros(FEATURE_COUNT)\n",
    "\n",
    "    new_board = START_BOARD\n",
    "\n",
    "    counter = 0\n",
    "\n",
    "    while counter < 1000:\n",
    "        next_piece = random.choice(list(PIECES_NAMES))\n",
    "\n",
    "        action, value, reward, updated_board = get_best_action_with_weights(weights_to_play_with, new_board, next_piece)\n",
    "\n",
    "        if (action is not None):\n",
    "            weight_update, new_traces = get_weight_update_and_traces(new_board, updated_board, reward, value_function_weights, traces)\n",
    "            traces = new_traces\n",
    "\n",
    "            value_function_weights += weight_update\n",
    "        else:\n",
    "            weight_update, new_traces = get_weight_update_and_traces(new_board, None, None, value_function_weights, traces)\n",
    "            value_function_weights += weight_update\n",
    "            break\n",
    "\n",
    "        new_board = updated_board\n",
    "        counter += 1\n",
    "\n",
    "    return value_function_weights"
   ],
   "id": "24bc3d04994bf4b",
   "outputs": [],
   "execution_count": 11
  },
  {
   "metadata": {},
   "cell_type": "code",
   "outputs": [],
   "execution_count": null,
   "source": [
    "strategy_weights = np.zeros(FEATURE_COUNT)\n",
    "\n",
    "episodes = 100\n",
    "\n",
    "for i in range(75):\n",
    "    print(i, flush=True)\n",
    "    print(play_avg_reward(strategy_weights), flush=True)\n",
    "    value_function_weights = strategy_weights\n",
    "    for j in range(episodes):\n",
    "        value_function_weights = update_weights_per_episode(strategy_weights, value_function_weights)\n",
    "\n",
    "    strategy_weights = value_function_weights\n",
    "\n",
    "print(strategy_weights)\n",
    "print(play_avg_reward(strategy_weights), flush=True)"
   ],
   "id": "9a4ba259355d662"
  }
 ],
 "metadata": {
  "kernelspec": {
   "display_name": "Python 3",
   "language": "python",
   "name": "python3"
  },
  "language_info": {
   "codemirror_mode": {
    "name": "ipython",
    "version": 2
   },
   "file_extension": ".py",
   "mimetype": "text/x-python",
   "name": "python",
   "nbconvert_exporter": "python",
   "pygments_lexer": "ipython2",
   "version": "2.7.6"
  }
 },
 "nbformat": 4,
 "nbformat_minor": 5
}
