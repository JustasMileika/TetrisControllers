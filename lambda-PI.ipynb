{
 "cells": [
  {
   "metadata": {
    "id": "QM4QixX4pHHY",
    "ExecuteTime": {
     "end_time": "2025-05-22T09:57:58.431947Z",
     "start_time": "2025-05-22T09:57:58.307176Z"
    }
   },
   "cell_type": "code",
   "source": [
    "import copy\n",
    "import random\n",
    "\n",
    "import numpy as np"
   ],
   "id": "64f4c4f552745dc1",
   "outputs": [],
   "execution_count": 1
  },
  {
   "metadata": {
    "id": "_A_KqCulpJ8h",
    "ExecuteTime": {
     "end_time": "2025-05-22T09:57:58.446079Z",
     "start_time": "2025-05-22T09:57:58.440077Z"
    }
   },
   "cell_type": "code",
   "source": [
    "WIDTH = 10\n",
    "HEIGHT = 20\n",
    "DISCOUNT = 0.9\n",
    "LAMBDA = 0.8\n",
    "FEATURE_COUNT = 2 * WIDTH + 2\n",
    "PIECES = {\n",
    "    'I': [\n",
    "        np.array([\n",
    "            [1, 1, 1, 1],\n",
    "            [0, 0, 0, 0],\n",
    "            [0, 0, 0, 0],\n",
    "            [0, 0, 0, 0],\n",
    "        ]),\n",
    "        np.array([\n",
    "            [1, 0, 0, 0],\n",
    "            [1, 0, 0, 0],\n",
    "            [1, 0, 0, 0],\n",
    "            [1, 0, 0, 0],\n",
    "        ])\n",
    "    ],\n",
    "    'T': [\n",
    "        np.array([\n",
    "            [1, 1, 1],\n",
    "            [0, 1, 0],\n",
    "            [0, 0, 0],\n",
    "        ]),\n",
    "        np.array([\n",
    "            [1, 0, 0],\n",
    "            [1, 1, 0],\n",
    "            [1, 0, 0],\n",
    "        ]),\n",
    "        np.array([\n",
    "            [0, 1, 0],\n",
    "            [1, 1, 1],\n",
    "            [0, 0, 0],\n",
    "        ]),\n",
    "        np.array([\n",
    "            [0, 1, 0],\n",
    "            [1, 1, 0],\n",
    "            [0, 1, 0],\n",
    "        ])\n",
    "    ],\n",
    "    'Z': [\n",
    "        np.array([\n",
    "            [1, 1, 0],\n",
    "            [0, 1, 1],\n",
    "            [0, 0, 0],\n",
    "        ]),\n",
    "        np.array([\n",
    "            [0, 1, 0],\n",
    "            [1, 1, 0],\n",
    "            [1, 0, 0],\n",
    "        ]),\n",
    "    ],\n",
    "    'S': [\n",
    "        np.array([\n",
    "            [0, 1, 1],\n",
    "            [1, 1, 0],\n",
    "            [0, 0, 0],\n",
    "        ]),\n",
    "        np.array([\n",
    "            [1, 0, 0],\n",
    "            [1, 1, 0],\n",
    "            [0, 1, 0],\n",
    "        ]),\n",
    "    ],\n",
    "    'O': [\n",
    "        np.array([\n",
    "            [1, 1],\n",
    "            [1, 1],\n",
    "        ])\n",
    "    ],\n",
    "    'L': [\n",
    "        np.array([\n",
    "            [1, 0, 0],\n",
    "            [1, 0, 0],\n",
    "            [1, 1, 0],\n",
    "        ]),\n",
    "        np.array([\n",
    "            [0, 0, 1],\n",
    "            [1, 1, 1],\n",
    "            [0, 0, 0],\n",
    "        ]),\n",
    "        np.array([\n",
    "            [1, 1, 0],\n",
    "            [0, 1, 0],\n",
    "            [0, 1, 0],\n",
    "        ]),\n",
    "        np.array([\n",
    "            [1, 1, 1],\n",
    "            [1, 0, 0],\n",
    "            [0, 0, 0],\n",
    "        ]),\n",
    "    ],\n",
    "    'J': [\n",
    "        np.array([\n",
    "            [0, 1, 0],\n",
    "            [0, 1, 0],\n",
    "            [1, 1, 0],\n",
    "        ]),\n",
    "        np.array([\n",
    "            [1, 0, 0],\n",
    "            [1, 1, 1],\n",
    "            [0, 0, 0],\n",
    "        ]),\n",
    "        np.array([\n",
    "            [1, 1, 0],\n",
    "            [1, 0, 0],\n",
    "            [1, 0, 0],\n",
    "        ]),\n",
    "        np.array([\n",
    "            [1, 1, 1],\n",
    "            [0, 0, 1],\n",
    "            [0, 0, 0],\n",
    "        ]),\n",
    "    ],\n",
    "}\n",
    "\n",
    "PIECES_NAMES = PIECES.keys()\n",
    "\n",
    "START_BOARD = [[0] * WIDTH for _ in range(HEIGHT)]"
   ],
   "id": "b621e2991433f265",
   "outputs": [],
   "execution_count": 2
  },
  {
   "metadata": {
    "id": "4y0geIogpEE2",
    "ExecuteTime": {
     "end_time": "2025-05-22T09:57:58.454164Z",
     "start_time": "2025-05-22T09:57:58.449636Z"
    }
   },
   "cell_type": "code",
   "source": [
    "def can_be_placed_x_y(board, piece, x, y):\n",
    "    n = len(piece)\n",
    "    m = len(piece[0])\n",
    "    mrange = range(m)\n",
    "    for i in range(n):\n",
    "        for j in mrange:\n",
    "            if piece[i][j] == 1 and (x + i >= HEIGHT or y + j >= WIDTH or board[x + i][y + j] == 1):\n",
    "                return False\n",
    "    return True\n",
    "\n",
    "\n",
    "def can_be_placed_y(board, piece, y):\n",
    "    can_place_at = -1\n",
    "    for i in range(HEIGHT):\n",
    "        if can_be_placed_x_y(board, piece, i, y):\n",
    "            can_place_at = i\n",
    "        else:\n",
    "            break\n",
    "    return can_place_at\n",
    "\n",
    "\n",
    "def place(board, piece, x, y):\n",
    "    new_board = copy.deepcopy(board)\n",
    "    n = len(piece)\n",
    "    m = len(piece[0])\n",
    "    mrange = range(m)\n",
    "    for i in range(n):\n",
    "        for j in mrange:\n",
    "            if piece[i][j] == 1:\n",
    "                new_board[x + i][y + j] = 1\n",
    "    return new_board\n",
    "\n",
    "\n",
    "def print_board(board, name=\"\"):\n",
    "    print(name)\n",
    "    for row in board:\n",
    "        print(\"\".join(\"#\" if x else \".\" for x in row))\n",
    "    print(\"\\n\")\n",
    "\n",
    "\n",
    "def get_piece_actions(board, piece):\n",
    "    actions = []\n",
    "    for rotation in piece:\n",
    "        for i in range(WIDTH):\n",
    "            placed = can_be_placed_y(board, rotation, i)\n",
    "            if placed > -1:\n",
    "                actions.append((placed, i, rotation))\n",
    "\n",
    "    return actions\n",
    "\n",
    "\n",
    "def get_reward(board):\n",
    "    new_board = [row for row in board if not all(row)]\n",
    "    cleared = HEIGHT - len(new_board)\n",
    "    while len(new_board) < HEIGHT:\n",
    "        new_board.insert(0, [0] * WIDTH)\n",
    "    return new_board, cleared"
   ],
   "id": "b35f4a0384546d00",
   "outputs": [],
   "execution_count": 3
  },
  {
   "metadata": {
    "ExecuteTime": {
     "end_time": "2025-05-22T09:57:58.553559Z",
     "start_time": "2025-05-22T09:57:58.550356Z"
    }
   },
   "cell_type": "code",
   "source": [
    "def get_features(board):\n",
    "    board = np.array(board)\n",
    "    height, width = board.shape\n",
    "    h = np.zeros(width, dtype=int)\n",
    "\n",
    "    for k in range(width):\n",
    "        column = board[:, k]\n",
    "        non_zero = np.where(column == 1)[0]\n",
    "        h[k] = height - non_zero[0] if len(non_zero) > 0 else 0\n",
    "\n",
    "    height_diffs = np.abs(np.diff(h))\n",
    "\n",
    "    max_h = np.max(h)\n",
    "\n",
    "    holes = 0\n",
    "    for k in range(width):\n",
    "        col = board[:, k]\n",
    "        filled_indices = np.where(col == 1)[0]\n",
    "        if len(filled_indices) > 0:\n",
    "            top = filled_indices[0]\n",
    "            holes += np.sum(col[top + 1:] == 0)\n",
    "\n",
    "    features = np.concatenate([\n",
    "        [1.0],\n",
    "        h,\n",
    "        height_diffs,\n",
    "        [max_h],\n",
    "        [holes]\n",
    "    ])\n",
    "\n",
    "    return features"
   ],
   "id": "130d6f26547de760",
   "outputs": [],
   "execution_count": 4
  },
  {
   "metadata": {
    "ExecuteTime": {
     "end_time": "2025-05-22T09:57:58.562932Z",
     "start_time": "2025-05-22T09:57:58.561235Z"
    }
   },
   "cell_type": "code",
   "source": [
    "def get_value_with_weights(board, weights):\n",
    "    features = get_features(board)\n",
    "    return np.dot(features, weights)"
   ],
   "id": "8e0d54626e83f7ce",
   "outputs": [],
   "execution_count": 5
  },
  {
   "metadata": {
    "ExecuteTime": {
     "end_time": "2025-05-22T09:57:58.604697Z",
     "start_time": "2025-05-22T09:57:58.602Z"
    }
   },
   "cell_type": "code",
   "source": [
    "def get_best_action_with_weights(weights, initial_board, initial_piece):\n",
    "    actions = get_piece_actions(initial_board, PIECES[initial_piece])\n",
    "    best_value = -1\n",
    "    best_action = None\n",
    "    best_reward = None\n",
    "    best_new_board = None\n",
    "\n",
    "    for action in actions:\n",
    "        (x, y, rotation) = action\n",
    "        new_board = place(initial_board, rotation, x, y)\n",
    "        new_board, reward = get_reward(new_board)\n",
    "        value = reward + get_value_with_weights(new_board, weights)\n",
    "        if value > best_value:\n",
    "            best_value = value\n",
    "            best_action = action\n",
    "            best_reward = reward\n",
    "            best_new_board = new_board\n",
    "\n",
    "    return best_action, best_value, best_reward, best_new_board"
   ],
   "id": "de1dc7afa168c929",
   "outputs": [],
   "execution_count": 6
  },
  {
   "metadata": {
    "ExecuteTime": {
     "end_time": "2025-05-22T09:57:58.616736Z",
     "start_time": "2025-05-22T09:57:58.614418Z"
    }
   },
   "cell_type": "code",
   "source": [
    "def get_trajectory(weights):\n",
    "    trajectory = []\n",
    "\n",
    "    new_board = START_BOARD\n",
    "\n",
    "    counter = 0\n",
    "\n",
    "    while counter < 1000:\n",
    "        next_piece = random.choice(list(PIECES_NAMES))\n",
    "\n",
    "        action, value, reward, updated_board = get_best_action_with_weights(weights, new_board, next_piece)\n",
    "\n",
    "        if (action is not None):\n",
    "            trajectory.append((new_board, action, reward, updated_board))\n",
    "        else:\n",
    "            trajectory.append((new_board, None, None, None))\n",
    "            break\n",
    "\n",
    "        new_board = updated_board\n",
    "        counter += 1\n",
    "\n",
    "    return trajectory"
   ],
   "id": "db00025183fa3829",
   "outputs": [],
   "execution_count": 7
  },
  {
   "metadata": {
    "ExecuteTime": {
     "end_time": "2025-05-22T09:57:58.625831Z",
     "start_time": "2025-05-22T09:57:58.623813Z"
    }
   },
   "cell_type": "code",
   "source": [
    "def get_current_value_estimates(weights, boards):\n",
    "    value_estimates = []\n",
    "    for board in boards:\n",
    "        value_estimates.append(get_value_with_weights(board, weights))\n",
    "    return value_estimates"
   ],
   "id": "5fa927992af1d4a8",
   "outputs": [],
   "execution_count": 8
  },
  {
   "metadata": {
    "ExecuteTime": {
     "end_time": "2025-05-22T09:57:58.634689Z",
     "start_time": "2025-05-22T09:57:58.632828Z"
    }
   },
   "cell_type": "code",
   "source": [
    "def get_td_errors(value_estimates, rewards):\n",
    "    errors = []\n",
    "    for i in range(len(rewards)):\n",
    "        error = rewards[i] + value_estimates[i + 1] - value_estimates[i]\n",
    "        errors.append(error)\n",
    "    return errors"
   ],
   "id": "ade6e0e602c4f597",
   "outputs": [],
   "execution_count": 9
  },
  {
   "metadata": {
    "ExecuteTime": {
     "end_time": "2025-05-22T09:57:58.643477Z",
     "start_time": "2025-05-22T09:57:58.641654Z"
    }
   },
   "cell_type": "code",
   "source": [
    "def get_target(index, value_estimates, errors):\n",
    "    total = 0\n",
    "\n",
    "    total += value_estimates[index]\n",
    "\n",
    "    for i in range(len(errors) - index):\n",
    "        total += (LAMBDA ** i) * errors[index + i]\n",
    "\n",
    "    return total"
   ],
   "id": "edc3494af6ad390f",
   "outputs": [],
   "execution_count": 10
  },
  {
   "metadata": {
    "ExecuteTime": {
     "end_time": "2025-05-22T09:57:58.651821Z",
     "start_time": "2025-05-22T09:57:58.650089Z"
    }
   },
   "cell_type": "code",
   "source": [
    "def get_targets(value_estimates, errors):\n",
    "    targets = []\n",
    "\n",
    "    for i in range(len(errors)):\n",
    "        targets.append(get_target(i, value_estimates, errors))\n",
    "\n",
    "    return targets"
   ],
   "id": "acc5dc21bc737675",
   "outputs": [],
   "execution_count": 11
  },
  {
   "metadata": {
    "ExecuteTime": {
     "end_time": "2025-05-22T09:57:58.660017Z",
     "start_time": "2025-05-22T09:57:58.658323Z"
    }
   },
   "cell_type": "code",
   "source": [
    "def get_fi_matrix(boards):\n",
    "    fi_matrix = []\n",
    "\n",
    "    for i in range(len(boards) - 1):\n",
    "        fi_matrix.append(get_features(boards[i]))\n",
    "\n",
    "    return fi_matrix"
   ],
   "id": "79f2ed36891e97a6",
   "outputs": [],
   "execution_count": 12
  },
  {
   "metadata": {
    "ExecuteTime": {
     "end_time": "2025-05-22T09:57:58.669821Z",
     "start_time": "2025-05-22T09:57:58.667145Z"
    }
   },
   "cell_type": "code",
   "source": [
    "def get_fi_and_y(weights):\n",
    "    trajectory = get_trajectory(weights)\n",
    "    states = []\n",
    "    rewards = []\n",
    "\n",
    "    trajectory_len = len(trajectory)\n",
    "\n",
    "    for index, (new_board, action, reward, updated_board) in enumerate(trajectory):\n",
    "        states.append(new_board)\n",
    "        if (index < trajectory_len - 1):\n",
    "            rewards.append(reward)\n",
    "\n",
    "    value_estimates = get_current_value_estimates(weights, states)\n",
    "    errors = get_td_errors(value_estimates, rewards)\n",
    "    targets = np.array(get_targets(value_estimates, errors))\n",
    "    fi_matrix = np.array(get_fi_matrix(states))\n",
    "\n",
    "    return (fi_matrix, targets, len(trajectory))\n"
   ],
   "id": "75297b60b28443d9",
   "outputs": [],
   "execution_count": 13
  },
  {
   "metadata": {
    "ExecuteTime": {
     "end_time": "2025-05-22T09:57:58.678844Z",
     "start_time": "2025-05-22T09:57:58.676598Z"
    }
   },
   "cell_type": "code",
   "source": [
    "def get_updated_weights(weights, trajectory_count=100):\n",
    "    fis = []\n",
    "    ys = []\n",
    "\n",
    "    for i in range(trajectory_count):\n",
    "        fi, y, trajectory_len = get_fi_and_y(weights)\n",
    "        fis.append(fi)\n",
    "        ys.append(y)\n",
    "\n",
    "    fi = np.vstack(fis)\n",
    "    y = np.concatenate(ys)\n",
    "\n",
    "    new_r, _, _, _ = np.linalg.lstsq(fi, np.array(np.array(y)), rcond=None)\n",
    "    return new_r"
   ],
   "id": "75ecc1c772231859",
   "outputs": [],
   "execution_count": 14
  },
  {
   "metadata": {
    "ExecuteTime": {
     "end_time": "2025-05-22T09:57:58.687731Z",
     "start_time": "2025-05-22T09:57:58.685781Z"
    }
   },
   "cell_type": "code",
   "source": [
    "def play_with_weights(weights):\n",
    "    total_reward = 0\n",
    "\n",
    "    new_board = START_BOARD\n",
    "\n",
    "    while True:\n",
    "        next_piece = random.choice(list(PIECES_NAMES))\n",
    "\n",
    "        action, _, reward, updated_board = get_best_action_with_weights(weights, new_board, next_piece)\n",
    "\n",
    "        if (action is None):\n",
    "            break\n",
    "\n",
    "        new_board = updated_board\n",
    "        total_reward += reward\n",
    "\n",
    "    return total_reward"
   ],
   "id": "274b31c3e0d39e9e",
   "outputs": [],
   "execution_count": 15
  },
  {
   "metadata": {
    "ExecuteTime": {
     "end_time": "2025-05-22T09:57:58.696101Z",
     "start_time": "2025-05-22T09:57:58.694417Z"
    }
   },
   "cell_type": "code",
   "source": [
    "def play_avg_reward(weights, count=50):\n",
    "    total_reward = 0\n",
    "    for _ in range(count):\n",
    "        total_reward += play_with_weights(weights)\n",
    "    return total_reward / count"
   ],
   "id": "656478ee661d8bdb",
   "outputs": [],
   "execution_count": 16
  },
  {
   "metadata": {},
   "cell_type": "code",
   "outputs": [],
   "execution_count": null,
   "source": [
    "weights = np.zeros(FEATURE_COUNT)\n",
    "\n",
    "for i in range(50):\n",
    "    print(\"iteration\", i, flush=True)\n",
    "    print(play_avg_reward(weights), flush=True)\n",
    "    new_weights = get_updated_weights(weights)\n",
    "    weights = new_weights\n",
    "\n",
    "print(play_avg_reward(weights), flush=True)\n",
    "print(weights)"
   ],
   "id": "7781cf80c8a20e1b"
  }
 ],
 "metadata": {
  "kernelspec": {
   "display_name": "Python 3",
   "language": "python",
   "name": "python3"
  },
  "language_info": {
   "codemirror_mode": {
    "name": "ipython",
    "version": 2
   },
   "file_extension": ".py",
   "mimetype": "text/x-python",
   "name": "python",
   "nbconvert_exporter": "python",
   "pygments_lexer": "ipython2",
   "version": "2.7.6"
  }
 },
 "nbformat": 4,
 "nbformat_minor": 5
}
